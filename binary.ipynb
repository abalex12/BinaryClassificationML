{
 "cells": [
  {
   "cell_type": "code",
   "execution_count": 3,
   "metadata": {},
   "outputs": [],
   "source": [
    "\n",
    "import pandas as pd\n",
    "import numpy as np\n",
    "import matplotlib.pyplot as plt\n",
    "import sklearn\n",
    "import sklearn.linear_model\n",
    "import sklearn.ensemble\n",
    "import sklearn.metrics\n",
    "import sklearn.neighbors\n",
    "import sklearn.svm\n",
    "import sklearn.tree\n",
    "from sklearn.model_selection import GridSearchCV, train_test_split\n",
    "\n",
    "\n"
   ]
  },
  {
   "cell_type": "code",
   "execution_count": 4,
   "metadata": {},
   "outputs": [],
   "source": [
    "def extract_x_and_y(df, y_column):\n",
    "    y = df[y_column]\n",
    "    X = df.drop(columns=[y_column])\n",
    "    return X, y\n",
    "\n"
   ]
  },
  {
   "cell_type": "code",
   "execution_count": 5,
   "metadata": {},
   "outputs": [],
   "source": [
    "\n",
    "def train_model(model_dict, X, y, metric='f1', k=5):\n",
    "    name = model_dict['name']\n",
    "    param_grid = model_dict['parameters']\n",
    "    clf = GridSearchCV(estimator=model_dict['class'], param_grid=param_grid, cv=k, scoring=metric)\n",
    "    clf.fit(X, y)\n",
    "    best_score = clf.best_score_\n",
    "    return name, clf, best_score\n",
    "\n"
   ]
  },
  {
   "cell_type": "code",
   "execution_count": 7,
   "metadata": {},
   "outputs": [],
   "source": [
    "def train_all_models(models, X, y, metric='accuracy', k=5):\n",
    "    # Initialize the list\n",
    "    final_list = []\n",
    "\n",
    "    for model in models:\n",
    "        model_info = train_model(model, X, y, metric, k)\n",
    "        final_list.append(model_info)\n",
    "\n",
    "    # Sort the final list\n",
    "    final_list = sorted(final_list, key=lambda score: score[2], reverse=True)\n",
    "    return final_list\n",
    "\n"
   ]
  },
  {
   "cell_type": "code",
   "execution_count": 8,
   "metadata": {},
   "outputs": [],
   "source": [
    "def specify_models():\n",
    "    models = [\n",
    "        {\n",
    "            'name': 'K Nearest Neighbors Classifier',\n",
    "            'class': sklearn.neighbors.KNeighborsClassifier(),\n",
    "            'parameters': {'n_neighbors': range(1, 12)}\n",
    "        },\n",
    "        {\n",
    "            'name': 'Support Vector Classifier with Linear Kernel',\n",
    "            'class': sklearn.svm.LinearSVC(dual='auto', max_iter=100000),\n",
    "            'parameters': {'C': [0.001, 0.01, 0.1, 1, 10, 100]}\n",
    "        },\n",
    "        {\n",
    "            'name': 'Support Vector Classifier with Radial Kernel',\n",
    "            'class': sklearn.svm.SVC(kernel='rbf', max_iter=1000),\n",
    "            'parameters': {'C': [0.001, 0.01, 0.1, 1, 10, 100], 'gamma': [0.001, 0.01, 0.1, 1, 10, 100]}\n",
    "        },\n",
    "        {\n",
    "            'name': \"Logistic Regression with LASSO\",\n",
    "            'class': sklearn.linear_model.LogisticRegression(penalty='l1', solver='liblinear', max_iter=200000),  # Increased max_iter and changed solver\n",
    "            'parameters': {'C': [0.001, 0.01, 0.1, 1, 10, 100]}\n",
    "        },\n",
    "        {\n",
    "            'name': \"Stochastic Gradient Descent Classifier\",\n",
    "            'class': sklearn.linear_model.SGDClassifier(),\n",
    "            'parameters': {'max_iter': [100, 1000], 'alpha': [0.0001, 0.001, 0.01, 0.1]}\n",
    "        },\n",
    "        {\n",
    "            'name': \"Decision Tree Classifier\",\n",
    "            'class': sklearn.tree.DecisionTreeClassifier(),\n",
    "            'parameters': {'max_depth': range(3, 15)}\n",
    "        },\n",
    "        {\n",
    "            'name': \"Random Forest Classifier\",\n",
    "            'class': sklearn.ensemble.RandomForestClassifier(),\n",
    "            'parameters': {'n_estimators': [10, 20, 50, 100, 200]}\n",
    "        },\n",
    "        {\n",
    "            'name': \"Extremely Randomized Trees Classifier\",\n",
    "            'class': sklearn.ensemble.ExtraTreesClassifier(),\n",
    "            'parameters': {'n_estimators': [10, 20, 50, 100, 200]}\n",
    "        }\n",
    "    ]\n",
    "    return models\n",
    "\n"
   ]
  },
  {
   "cell_type": "code",
   "execution_count": 9,
   "metadata": {},
   "outputs": [],
   "source": [
    "def auto_train_binary_classifier(df, y_column, models, test_size=0.2, random_state=42, metric='f1', k=5):\n",
    "    # Extract features and target variable\n",
    "    X, y = extract_x_and_y(df, y_column)\n",
    "\n",
    "    # Split the data into training and test sets\n",
    "    X_train, X_test, y_train, y_test = train_test_split(X, y, test_size=test_size, random_state=random_state)\n",
    "\n",
    "    # Train all the models\n",
    "    final_model = train_all_models(models, X_train, y_train, metric=metric, k=k)\n",
    "\n",
    "    # Take the best model, its name and the score\n",
    "    best_model_name, best_model, train_set_score = final_model[0]\n",
    "\n",
    "  \n",
    "    # Test set performance\n",
    "   \n",
    "    predicted = best_model.predict(X_test)\n",
    "    test_set_score = sklearn.metrics.accuracy_score(y_test, predicted)\n",
    "\n",
    "    return best_model_name, best_model, train_set_score, test_set_score\n",
    "\n"
   ]
  },
  {
   "cell_type": "code",
   "execution_count": 10,
   "metadata": {},
   "outputs": [
    {
     "name": "stdout",
     "output_type": "stream",
     "text": [
      "Best Model: Extremely Randomized Trees Classifier\n",
      "Trained Model: GridSearchCV(cv=5, estimator=ExtraTreesClassifier(),\n",
      "             param_grid={'n_estimators': [10, 20, 50, 100, 200]}, scoring='f1')\n",
      "Training Set Score (F1): 0.9759783938300874\n",
      "Test Set Score (Accuracy): 0.9649122807017544\n"
     ]
    }
   ],
   "source": [
    "\n",
    "# Test the implementation\n",
    "\n",
    "if __name__ == \"__main__\":\n",
    "    from sklearn.datasets import load_breast_cancer\n",
    "\n",
    "    # Load the breast cancer dataset\n",
    "    cancer = load_breast_cancer()\n",
    "    cancer_df = pd.DataFrame(cancer.data, columns=cancer.feature_names)\n",
    "    cancer_df['target'] = pd.Series(cancer.target)\n",
    "\n",
    "    # Specify models\n",
    "    models = specify_models()\n",
    "    \n",
    "    # Train models and get best performance\n",
    "    best_model_name, best_model, train_set_score, test_set_score = auto_train_binary_classifier(\n",
    "        cancer_df, 'target', models)\n",
    "\n",
    "    # Print results\n",
    "    print(f\"Best Model: {best_model_name}\")\n",
    "    print(f\"Trained Model: {best_model}\")\n",
    "    print(f\"Training Set Score (F1): {train_set_score}\")\n",
    "    print(f\"Test Set Score (Accuracy): {test_set_score}\")"
   ]
  }
 ],
 "metadata": {
  "kernelspec": {
   "display_name": "Python 3",
   "language": "python",
   "name": "python3"
  },
  "language_info": {
   "codemirror_mode": {
    "name": "ipython",
    "version": 3
   },
   "file_extension": ".py",
   "mimetype": "text/x-python",
   "name": "python",
   "nbconvert_exporter": "python",
   "pygments_lexer": "ipython3",
   "version": "3.12.4"
  }
 },
 "nbformat": 4,
 "nbformat_minor": 2
}
